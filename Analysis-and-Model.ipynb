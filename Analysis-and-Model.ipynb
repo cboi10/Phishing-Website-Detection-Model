{
 "cells": [
  {
   "cell_type": "code",
   "execution_count": 1,
   "id": "d82ad7a5",
   "metadata": {
    "_cell_guid": "b1076dfc-b9ad-4769-8c92-a6c4dae69d19",
    "_uuid": "8f2839f25d086af736a60e9eeb907d3b93b6e0e5",
    "execution": {
     "iopub.execute_input": "2023-05-15T05:41:14.314351Z",
     "iopub.status.busy": "2023-05-15T05:41:14.313497Z",
     "iopub.status.idle": "2023-05-15T05:41:14.335913Z",
     "shell.execute_reply": "2023-05-15T05:41:14.334973Z"
    },
    "papermill": {
     "duration": 0.044304,
     "end_time": "2023-05-15T05:41:14.338288",
     "exception": false,
     "start_time": "2023-05-15T05:41:14.293984",
     "status": "completed"
    },
    "tags": []
   },
   "outputs": [
    {
     "name": "stdout",
     "output_type": "stream",
     "text": [
      "/kaggle/input/phishing-website-dataset/dataset.csv\n"
     ]
    }
   ],
   "source": [
    "\n",
    "import numpy as np \n",
    "import pandas as pd \n",
    "\n",
    "\n",
    "import os\n",
    "for dirname, _, filenames in os.walk('/kaggle/input'):\n",
    "    for filename in filenames:\n",
    "        print(os.path.join(dirname, filename))\n"
   ]
  },
  {
   "cell_type": "markdown",
   "id": "5d895e77",
   "metadata": {
    "papermill": {
     "duration": 0.015014,
     "end_time": "2023-05-15T05:41:14.369161",
     "exception": false,
     "start_time": "2023-05-15T05:41:14.354147",
     "status": "completed"
    },
    "tags": []
   },
   "source": [
    "> *flask app with api capability has been made and code can be find in https://github.com/tenzin3/PhishingWebsiteDetection*"
   ]
  },
  {
   "cell_type": "markdown",
   "id": "4ed8be41",
   "metadata": {
    "papermill": {
     "duration": 0.014981,
     "end_time": "2023-05-15T05:41:14.399396",
     "exception": false,
     "start_time": "2023-05-15T05:41:14.384415",
     "status": "completed"
    },
    "tags": []
   },
   "source": [
    "> *Dataset credit:> https://www.kaggle.com/datasets/akashkr/phishing-website-dataset*"
   ]
  },
  {
   "cell_type": "markdown",
   "id": "3725d3b0",
   "metadata": {
    "papermill": {
     "duration": 0.014937,
     "end_time": "2023-05-15T05:41:14.429564",
     "exception": false,
     "start_time": "2023-05-15T05:41:14.414627",
     "status": "completed"
    },
    "tags": []
   },
   "source": [
    "> *Description and labeling of data columns credit goes to :> https://www.kaggle.com/code/akashkr/phishing-url-eda-and-modelling.*"
   ]
  },
  {
   "cell_type": "code",
   "execution_count": 2,
   "id": "2c84fb28",
   "metadata": {
    "execution": {
     "iopub.execute_input": "2023-05-15T05:41:14.462870Z",
     "iopub.status.busy": "2023-05-15T05:41:14.461751Z",
     "iopub.status.idle": "2023-05-15T05:41:14.579234Z",
     "shell.execute_reply": "2023-05-15T05:41:14.577802Z"
    },
    "papermill": {
     "duration": 0.137225,
     "end_time": "2023-05-15T05:41:14.582067",
     "exception": false,
     "start_time": "2023-05-15T05:41:14.444842",
     "status": "completed"
    },
    "tags": []
   },
   "outputs": [
    {
     "data": {
      "text/html": [
       "<div>\n",
       "<style scoped>\n",
       "    .dataframe tbody tr th:only-of-type {\n",
       "        vertical-align: middle;\n",
       "    }\n",
       "\n",
       "    .dataframe tbody tr th {\n",
       "        vertical-align: top;\n",
       "    }\n",
       "\n",
       "    .dataframe thead th {\n",
       "        text-align: right;\n",
       "    }\n",
       "</style>\n",
       "<table border=\"1\" class=\"dataframe\">\n",
       "  <thead>\n",
       "    <tr style=\"text-align: right;\">\n",
       "      <th></th>\n",
       "      <th>index</th>\n",
       "      <th>having_IPhaving_IP_Address</th>\n",
       "      <th>URLURL_Length</th>\n",
       "      <th>Shortining_Service</th>\n",
       "      <th>having_At_Symbol</th>\n",
       "      <th>double_slash_redirecting</th>\n",
       "      <th>Prefix_Suffix</th>\n",
       "      <th>having_Sub_Domain</th>\n",
       "      <th>SSLfinal_State</th>\n",
       "      <th>Domain_registeration_length</th>\n",
       "      <th>...</th>\n",
       "      <th>popUpWidnow</th>\n",
       "      <th>Iframe</th>\n",
       "      <th>age_of_domain</th>\n",
       "      <th>DNSRecord</th>\n",
       "      <th>web_traffic</th>\n",
       "      <th>Page_Rank</th>\n",
       "      <th>Google_Index</th>\n",
       "      <th>Links_pointing_to_page</th>\n",
       "      <th>Statistical_report</th>\n",
       "      <th>Result</th>\n",
       "    </tr>\n",
       "  </thead>\n",
       "  <tbody>\n",
       "    <tr>\n",
       "      <th>0</th>\n",
       "      <td>1</td>\n",
       "      <td>-1</td>\n",
       "      <td>1</td>\n",
       "      <td>1</td>\n",
       "      <td>1</td>\n",
       "      <td>-1</td>\n",
       "      <td>-1</td>\n",
       "      <td>-1</td>\n",
       "      <td>-1</td>\n",
       "      <td>-1</td>\n",
       "      <td>...</td>\n",
       "      <td>1</td>\n",
       "      <td>1</td>\n",
       "      <td>-1</td>\n",
       "      <td>-1</td>\n",
       "      <td>-1</td>\n",
       "      <td>-1</td>\n",
       "      <td>1</td>\n",
       "      <td>1</td>\n",
       "      <td>-1</td>\n",
       "      <td>-1</td>\n",
       "    </tr>\n",
       "    <tr>\n",
       "      <th>1</th>\n",
       "      <td>2</td>\n",
       "      <td>1</td>\n",
       "      <td>1</td>\n",
       "      <td>1</td>\n",
       "      <td>1</td>\n",
       "      <td>1</td>\n",
       "      <td>-1</td>\n",
       "      <td>0</td>\n",
       "      <td>1</td>\n",
       "      <td>-1</td>\n",
       "      <td>...</td>\n",
       "      <td>1</td>\n",
       "      <td>1</td>\n",
       "      <td>-1</td>\n",
       "      <td>-1</td>\n",
       "      <td>0</td>\n",
       "      <td>-1</td>\n",
       "      <td>1</td>\n",
       "      <td>1</td>\n",
       "      <td>1</td>\n",
       "      <td>-1</td>\n",
       "    </tr>\n",
       "    <tr>\n",
       "      <th>2</th>\n",
       "      <td>3</td>\n",
       "      <td>1</td>\n",
       "      <td>0</td>\n",
       "      <td>1</td>\n",
       "      <td>1</td>\n",
       "      <td>1</td>\n",
       "      <td>-1</td>\n",
       "      <td>-1</td>\n",
       "      <td>-1</td>\n",
       "      <td>-1</td>\n",
       "      <td>...</td>\n",
       "      <td>1</td>\n",
       "      <td>1</td>\n",
       "      <td>1</td>\n",
       "      <td>-1</td>\n",
       "      <td>1</td>\n",
       "      <td>-1</td>\n",
       "      <td>1</td>\n",
       "      <td>0</td>\n",
       "      <td>-1</td>\n",
       "      <td>-1</td>\n",
       "    </tr>\n",
       "    <tr>\n",
       "      <th>3</th>\n",
       "      <td>4</td>\n",
       "      <td>1</td>\n",
       "      <td>0</td>\n",
       "      <td>1</td>\n",
       "      <td>1</td>\n",
       "      <td>1</td>\n",
       "      <td>-1</td>\n",
       "      <td>-1</td>\n",
       "      <td>-1</td>\n",
       "      <td>1</td>\n",
       "      <td>...</td>\n",
       "      <td>1</td>\n",
       "      <td>1</td>\n",
       "      <td>-1</td>\n",
       "      <td>-1</td>\n",
       "      <td>1</td>\n",
       "      <td>-1</td>\n",
       "      <td>1</td>\n",
       "      <td>-1</td>\n",
       "      <td>1</td>\n",
       "      <td>-1</td>\n",
       "    </tr>\n",
       "    <tr>\n",
       "      <th>4</th>\n",
       "      <td>5</td>\n",
       "      <td>1</td>\n",
       "      <td>0</td>\n",
       "      <td>-1</td>\n",
       "      <td>1</td>\n",
       "      <td>1</td>\n",
       "      <td>-1</td>\n",
       "      <td>1</td>\n",
       "      <td>1</td>\n",
       "      <td>-1</td>\n",
       "      <td>...</td>\n",
       "      <td>-1</td>\n",
       "      <td>1</td>\n",
       "      <td>-1</td>\n",
       "      <td>-1</td>\n",
       "      <td>0</td>\n",
       "      <td>-1</td>\n",
       "      <td>1</td>\n",
       "      <td>1</td>\n",
       "      <td>1</td>\n",
       "      <td>1</td>\n",
       "    </tr>\n",
       "  </tbody>\n",
       "</table>\n",
       "<p>5 rows × 32 columns</p>\n",
       "</div>"
      ],
      "text/plain": [
       "   index  having_IPhaving_IP_Address  URLURL_Length  Shortining_Service  \\\n",
       "0      1                          -1              1                   1   \n",
       "1      2                           1              1                   1   \n",
       "2      3                           1              0                   1   \n",
       "3      4                           1              0                   1   \n",
       "4      5                           1              0                  -1   \n",
       "\n",
       "   having_At_Symbol  double_slash_redirecting  Prefix_Suffix  \\\n",
       "0                 1                        -1             -1   \n",
       "1                 1                         1             -1   \n",
       "2                 1                         1             -1   \n",
       "3                 1                         1             -1   \n",
       "4                 1                         1             -1   \n",
       "\n",
       "   having_Sub_Domain  SSLfinal_State  Domain_registeration_length  ...  \\\n",
       "0                 -1              -1                           -1  ...   \n",
       "1                  0               1                           -1  ...   \n",
       "2                 -1              -1                           -1  ...   \n",
       "3                 -1              -1                            1  ...   \n",
       "4                  1               1                           -1  ...   \n",
       "\n",
       "   popUpWidnow  Iframe  age_of_domain  DNSRecord  web_traffic  Page_Rank  \\\n",
       "0            1       1             -1         -1           -1         -1   \n",
       "1            1       1             -1         -1            0         -1   \n",
       "2            1       1              1         -1            1         -1   \n",
       "3            1       1             -1         -1            1         -1   \n",
       "4           -1       1             -1         -1            0         -1   \n",
       "\n",
       "   Google_Index  Links_pointing_to_page  Statistical_report  Result  \n",
       "0             1                       1                  -1      -1  \n",
       "1             1                       1                   1      -1  \n",
       "2             1                       0                  -1      -1  \n",
       "3             1                      -1                   1      -1  \n",
       "4             1                       1                   1       1  \n",
       "\n",
       "[5 rows x 32 columns]"
      ]
     },
     "execution_count": 2,
     "metadata": {},
     "output_type": "execute_result"
    }
   ],
   "source": [
    "dataset = pd.read_csv('/kaggle/input/phishing-website-dataset/dataset.csv')\n",
    "dataset.head()"
   ]
  },
  {
   "cell_type": "markdown",
   "id": "4727c21b",
   "metadata": {
    "papermill": {
     "duration": 0.016614,
     "end_time": "2023-05-15T05:41:14.615234",
     "exception": false,
     "start_time": "2023-05-15T05:41:14.598620",
     "status": "completed"
    },
    "tags": []
   },
   "source": [
    "> *1 means legitimate, 0 is suspicious and -1 is phishing.*"
   ]
  },
  {
   "cell_type": "code",
   "execution_count": 3,
   "id": "25a0a2df",
   "metadata": {
    "execution": {
     "iopub.execute_input": "2023-05-15T05:41:14.650907Z",
     "iopub.status.busy": "2023-05-15T05:41:14.650448Z",
     "iopub.status.idle": "2023-05-15T05:41:14.665384Z",
     "shell.execute_reply": "2023-05-15T05:41:14.664149Z"
    },
    "papermill": {
     "duration": 0.035354,
     "end_time": "2023-05-15T05:41:14.667638",
     "exception": false,
     "start_time": "2023-05-15T05:41:14.632284",
     "status": "completed"
    },
    "tags": []
   },
   "outputs": [
    {
     "data": {
      "text/plain": [
       " 1    6157\n",
       "-1    4898\n",
       "Name: Result, dtype: int64"
      ]
     },
     "execution_count": 3,
     "metadata": {},
     "output_type": "execute_result"
    }
   ],
   "source": [
    "dataset['Result'].value_counts()"
   ]
  },
  {
   "cell_type": "code",
   "execution_count": 4,
   "id": "2629a9b9",
   "metadata": {
    "execution": {
     "iopub.execute_input": "2023-05-15T05:41:14.704105Z",
     "iopub.status.busy": "2023-05-15T05:41:14.703372Z",
     "iopub.status.idle": "2023-05-15T05:41:14.712038Z",
     "shell.execute_reply": "2023-05-15T05:41:14.711250Z"
    },
    "papermill": {
     "duration": 0.029595,
     "end_time": "2023-05-15T05:41:14.714273",
     "exception": false,
     "start_time": "2023-05-15T05:41:14.684678",
     "status": "completed"
    },
    "tags": []
   },
   "outputs": [
    {
     "data": {
      "text/plain": [
       "-1    8201\n",
       " 1    2854\n",
       "Name: Page_Rank, dtype: int64"
      ]
     },
     "execution_count": 4,
     "metadata": {},
     "output_type": "execute_result"
    }
   ],
   "source": [
    "dataset['Page_Rank'].value_counts()"
   ]
  },
  {
   "cell_type": "markdown",
   "id": "1fc368d7",
   "metadata": {
    "papermill": {
     "duration": 0.016249,
     "end_time": "2023-05-15T05:41:14.747296",
     "exception": false,
     "start_time": "2023-05-15T05:41:14.731047",
     "status": "completed"
    },
    "tags": []
   },
   "source": [
    "> *PageRank\n",
    "PageRank is a value ranging from “0” to “1”. PageRank aims to measure how important a webpage is on the Internet. The greater the PageRank value the more important the webpage. In our datasets, we find that about 95% of phishing webpages have no PageRank. Moreover, we find that the remaining 5% of phishing webpages may reach a PageRank value up to “0.2”.\n",
    "Rule: IF\n",
    "{PageRank<0.2 → Phishing\n",
    "{Otherwise → Legitimate*"
   ]
  },
  {
   "cell_type": "code",
   "execution_count": 5,
   "id": "a32fc4f0",
   "metadata": {
    "execution": {
     "iopub.execute_input": "2023-05-15T05:41:14.782412Z",
     "iopub.status.busy": "2023-05-15T05:41:14.781996Z",
     "iopub.status.idle": "2023-05-15T05:41:14.790551Z",
     "shell.execute_reply": "2023-05-15T05:41:14.789537Z"
    },
    "papermill": {
     "duration": 0.028894,
     "end_time": "2023-05-15T05:41:14.792895",
     "exception": false,
     "start_time": "2023-05-15T05:41:14.764001",
     "status": "completed"
    },
    "tags": []
   },
   "outputs": [
    {
     "data": {
      "text/plain": [
       " 1    9516\n",
       "-1    1539\n",
       "Name: Google_Index, dtype: int64"
      ]
     },
     "execution_count": 5,
     "metadata": {},
     "output_type": "execute_result"
    }
   ],
   "source": [
    "dataset['Google_Index'].value_counts()"
   ]
  },
  {
   "cell_type": "markdown",
   "id": "fe67a359",
   "metadata": {
    "papermill": {
     "duration": 0.016399,
     "end_time": "2023-05-15T05:41:14.826682",
     "exception": false,
     "start_time": "2023-05-15T05:41:14.810283",
     "status": "completed"
    },
    "tags": []
   },
   "source": [
    "> *Google Index\n",
    "This feature examines whether a website is in Google’s index or not. When a site is indexed by Google, it is displayed on search results (Webmaster resources, 2014). Usually, phishing webpages are merely accessible for a short period and as a result, many phishing webpages may not be found on the Google index.\n",
    "Rule: IF\n",
    "{Webpage Indexed by Google → Legitimate\n",
    "{Otherwise → Phishing*"
   ]
  },
  {
   "cell_type": "code",
   "execution_count": 6,
   "id": "6f68ad76",
   "metadata": {
    "execution": {
     "iopub.execute_input": "2023-05-15T05:41:14.862293Z",
     "iopub.status.busy": "2023-05-15T05:41:14.861887Z",
     "iopub.status.idle": "2023-05-15T05:41:14.870133Z",
     "shell.execute_reply": "2023-05-15T05:41:14.869358Z"
    },
    "papermill": {
     "duration": 0.02843,
     "end_time": "2023-05-15T05:41:14.872253",
     "exception": false,
     "start_time": "2023-05-15T05:41:14.843823",
     "status": "completed"
    },
    "tags": []
   },
   "outputs": [
    {
     "data": {
      "text/plain": [
       "-1    8960\n",
       " 1    1960\n",
       " 0     135\n",
       "Name: URLURL_Length, dtype: int64"
      ]
     },
     "execution_count": 6,
     "metadata": {},
     "output_type": "execute_result"
    }
   ],
   "source": [
    "dataset['URLURL_Length'].value_counts()"
   ]
  },
  {
   "cell_type": "markdown",
   "id": "1123d2cb",
   "metadata": {
    "papermill": {
     "duration": 0.016455,
     "end_time": "2023-05-15T05:41:14.905733",
     "exception": false,
     "start_time": "2023-05-15T05:41:14.889278",
     "status": "completed"
    },
    "tags": []
   },
   "source": [
    "> *Long URL to Hide the Suspicious Part\n",
    "Phishers can use long URL to hide the doubtful part in the address bar. For example: http://federmacedoadv.com.br/3f/aze/ab51e2e319e51502f416dbe46b773a5e/?cmd=_home&amp;dispatch=11004d58f5b74f8dc1e7c2e8dd4105e811004d58f5b74f8dc1e7c2e8dd4105e8@phishing.website.html To ensure accuracy of our study, we calculated the length of URLs in the dataset and produced an average URL length. The results showed that if the length of the URL is greater than or equal 54 characters then the URL classified as phishing. By reviewing our dataset we were able to find 1220 URLs lengths equals to 54 or more which constitute 48.8% of the total dataset size. We have been able to update this feature rule by using a method based on frequency and thus improving upon its accuracy.\n",
    "RULE: IF\n",
    "{URL length<54 → feature = Legitimate\n",
    "{else if URL length≥54 and ≤75 → feature = Suspicious\n",
    "{otherwise→ feature = Phishing*"
   ]
  },
  {
   "cell_type": "code",
   "execution_count": 7,
   "id": "ef974b1a",
   "metadata": {
    "execution": {
     "iopub.execute_input": "2023-05-15T05:41:14.942388Z",
     "iopub.status.busy": "2023-05-15T05:41:14.941668Z",
     "iopub.status.idle": "2023-05-15T05:41:14.949573Z",
     "shell.execute_reply": "2023-05-15T05:41:14.948864Z"
    },
    "papermill": {
     "duration": 0.028324,
     "end_time": "2023-05-15T05:41:14.951595",
     "exception": false,
     "start_time": "2023-05-15T05:41:14.923271",
     "status": "completed"
    },
    "tags": []
   },
   "outputs": [
    {
     "data": {
      "text/plain": [
       " 1    9400\n",
       "-1    1655\n",
       "Name: having_At_Symbol, dtype: int64"
      ]
     },
     "execution_count": 7,
     "metadata": {},
     "output_type": "execute_result"
    }
   ],
   "source": [
    "dataset['having_At_Symbol'].value_counts()"
   ]
  },
  {
   "cell_type": "markdown",
   "id": "66f0b4fa",
   "metadata": {
    "papermill": {
     "duration": 0.017256,
     "end_time": "2023-05-15T05:41:14.986226",
     "exception": false,
     "start_time": "2023-05-15T05:41:14.968970",
     "status": "completed"
    },
    "tags": []
   },
   "source": [
    "> *URL’s having “@” Symbol\n",
    "Using “@” symbol in the URL leads the browser to ignore everything preceding the “@” symbol and the real address often follows the “@” symbol.\n",
    "RULE: IF\n",
    "{Url Having @ Symbol→ Phishing\n",
    "{Otherwise→ Legitimate*"
   ]
  },
  {
   "cell_type": "code",
   "execution_count": 8,
   "id": "3de733e5",
   "metadata": {
    "execution": {
     "iopub.execute_input": "2023-05-15T05:41:15.022822Z",
     "iopub.status.busy": "2023-05-15T05:41:15.021814Z",
     "iopub.status.idle": "2023-05-15T05:41:15.030561Z",
     "shell.execute_reply": "2023-05-15T05:41:15.029529Z"
    },
    "papermill": {
     "duration": 0.029447,
     "end_time": "2023-05-15T05:41:15.032833",
     "exception": false,
     "start_time": "2023-05-15T05:41:15.003386",
     "status": "completed"
    },
    "tags": []
   },
   "outputs": [
    {
     "data": {
      "text/plain": [
       " 1    9626\n",
       "-1    1429\n",
       "Name: double_slash_redirecting, dtype: int64"
      ]
     },
     "execution_count": 8,
     "metadata": {},
     "output_type": "execute_result"
    }
   ],
   "source": [
    "dataset['double_slash_redirecting'].value_counts()"
   ]
  },
  {
   "cell_type": "markdown",
   "id": "b806a471",
   "metadata": {
    "papermill": {
     "duration": 0.016619,
     "end_time": "2023-05-15T05:41:15.066824",
     "exception": false,
     "start_time": "2023-05-15T05:41:15.050205",
     "status": "completed"
    },
    "tags": []
   },
   "source": [
    "> *Redirecting using “//”\n",
    "The existence of “//” within the URL path means that the user will be redirected to another website. An example of such URL’s is: “http://www.legitimate.com//http://www.phishing.com”. We examin the location where the “//” appears. We find that if the URL starts with “HTTP”, that means the “//” should appear in the sixth position. However, if the URL employs “HTTPS” then the “//” should appear in seventh position.\n",
    "RULE: IF\n",
    "{The Position of the Last Occurrence of \"//\\\" \" in the URL > 7→ Phishing\n",
    "{Otherwise→ Legitimate*"
   ]
  },
  {
   "cell_type": "code",
   "execution_count": 9,
   "id": "67fa605f",
   "metadata": {
    "execution": {
     "iopub.execute_input": "2023-05-15T05:41:15.102790Z",
     "iopub.status.busy": "2023-05-15T05:41:15.102366Z",
     "iopub.status.idle": "2023-05-15T05:41:15.110639Z",
     "shell.execute_reply": "2023-05-15T05:41:15.109917Z"
    },
    "papermill": {
     "duration": 0.028727,
     "end_time": "2023-05-15T05:41:15.112675",
     "exception": false,
     "start_time": "2023-05-15T05:41:15.083948",
     "status": "completed"
    },
    "tags": []
   },
   "outputs": [
    {
     "data": {
      "text/plain": [
       "-1    9590\n",
       " 1    1465\n",
       "Name: Prefix_Suffix, dtype: int64"
      ]
     },
     "execution_count": 9,
     "metadata": {},
     "output_type": "execute_result"
    }
   ],
   "source": [
    "dataset['Prefix_Suffix'].value_counts()"
   ]
  },
  {
   "cell_type": "markdown",
   "id": "977aa3bd",
   "metadata": {
    "papermill": {
     "duration": 0.016703,
     "end_time": "2023-05-15T05:41:15.147684",
     "exception": false,
     "start_time": "2023-05-15T05:41:15.130981",
     "status": "completed"
    },
    "tags": []
   },
   "source": [
    "> *Adding Prefix or Suffix Separated by (-) to the Domain\n",
    "The dash symbol is rarely used in legitimate URLs. Phishers tend to add prefixes or suffixes separated by (-) to the domain name so that users feel that they are dealing with a legitimate webpage. For example http://www.Confirme-paypal.com/.\n",
    "RULE: IF\n",
    "{Domain Name Part Includes (-) Symbol → Phishing\n",
    "{Otherwise → Legitimate*"
   ]
  },
  {
   "cell_type": "code",
   "execution_count": 10,
   "id": "dfbb1c37",
   "metadata": {
    "execution": {
     "iopub.execute_input": "2023-05-15T05:41:15.184463Z",
     "iopub.status.busy": "2023-05-15T05:41:15.183519Z",
     "iopub.status.idle": "2023-05-15T05:41:15.204733Z",
     "shell.execute_reply": "2023-05-15T05:41:15.203588Z"
    },
    "papermill": {
     "duration": 0.042807,
     "end_time": "2023-05-15T05:41:15.207531",
     "exception": false,
     "start_time": "2023-05-15T05:41:15.164724",
     "status": "completed"
    },
    "tags": []
   },
   "outputs": [
    {
     "data": {
      "text/html": [
       "<div>\n",
       "<style scoped>\n",
       "    .dataframe tbody tr th:only-of-type {\n",
       "        vertical-align: middle;\n",
       "    }\n",
       "\n",
       "    .dataframe tbody tr th {\n",
       "        vertical-align: top;\n",
       "    }\n",
       "\n",
       "    .dataframe thead th {\n",
       "        text-align: right;\n",
       "    }\n",
       "</style>\n",
       "<table border=\"1\" class=\"dataframe\">\n",
       "  <thead>\n",
       "    <tr style=\"text-align: right;\">\n",
       "      <th></th>\n",
       "      <th>URLURL_Length</th>\n",
       "      <th>having_At_Symbol</th>\n",
       "      <th>double_slash_redirecting</th>\n",
       "      <th>Prefix_Suffix</th>\n",
       "      <th>Page_Rank</th>\n",
       "      <th>Google_Index</th>\n",
       "      <th>Result</th>\n",
       "    </tr>\n",
       "  </thead>\n",
       "  <tbody>\n",
       "    <tr>\n",
       "      <th>0</th>\n",
       "      <td>1</td>\n",
       "      <td>1</td>\n",
       "      <td>-1</td>\n",
       "      <td>-1</td>\n",
       "      <td>-1</td>\n",
       "      <td>1</td>\n",
       "      <td>-1</td>\n",
       "    </tr>\n",
       "    <tr>\n",
       "      <th>1</th>\n",
       "      <td>1</td>\n",
       "      <td>1</td>\n",
       "      <td>1</td>\n",
       "      <td>-1</td>\n",
       "      <td>-1</td>\n",
       "      <td>1</td>\n",
       "      <td>-1</td>\n",
       "    </tr>\n",
       "    <tr>\n",
       "      <th>2</th>\n",
       "      <td>0</td>\n",
       "      <td>1</td>\n",
       "      <td>1</td>\n",
       "      <td>-1</td>\n",
       "      <td>-1</td>\n",
       "      <td>1</td>\n",
       "      <td>-1</td>\n",
       "    </tr>\n",
       "    <tr>\n",
       "      <th>3</th>\n",
       "      <td>0</td>\n",
       "      <td>1</td>\n",
       "      <td>1</td>\n",
       "      <td>-1</td>\n",
       "      <td>-1</td>\n",
       "      <td>1</td>\n",
       "      <td>-1</td>\n",
       "    </tr>\n",
       "    <tr>\n",
       "      <th>4</th>\n",
       "      <td>0</td>\n",
       "      <td>1</td>\n",
       "      <td>1</td>\n",
       "      <td>-1</td>\n",
       "      <td>-1</td>\n",
       "      <td>1</td>\n",
       "      <td>1</td>\n",
       "    </tr>\n",
       "  </tbody>\n",
       "</table>\n",
       "</div>"
      ],
      "text/plain": [
       "   URLURL_Length  having_At_Symbol  double_slash_redirecting  Prefix_Suffix  \\\n",
       "0              1                 1                        -1             -1   \n",
       "1              1                 1                         1             -1   \n",
       "2              0                 1                         1             -1   \n",
       "3              0                 1                         1             -1   \n",
       "4              0                 1                         1             -1   \n",
       "\n",
       "   Page_Rank  Google_Index  Result  \n",
       "0         -1             1      -1  \n",
       "1         -1             1      -1  \n",
       "2         -1             1      -1  \n",
       "3         -1             1      -1  \n",
       "4         -1             1       1  "
      ]
     },
     "execution_count": 10,
     "metadata": {},
     "output_type": "execute_result"
    }
   ],
   "source": [
    "selected_features=['URLURL_Length', 'having_At_Symbol','double_slash_redirecting', 'Prefix_Suffix', 'Page_Rank', 'Google_Index','Result']\n",
    "df = dataset[selected_features]\n",
    "df.head()"
   ]
  },
  {
   "cell_type": "code",
   "execution_count": 11,
   "id": "c664633c",
   "metadata": {
    "execution": {
     "iopub.execute_input": "2023-05-15T05:41:15.244312Z",
     "iopub.status.busy": "2023-05-15T05:41:15.243333Z",
     "iopub.status.idle": "2023-05-15T05:41:15.249562Z",
     "shell.execute_reply": "2023-05-15T05:41:15.248818Z"
    },
    "papermill": {
     "duration": 0.026715,
     "end_time": "2023-05-15T05:41:15.251628",
     "exception": false,
     "start_time": "2023-05-15T05:41:15.224913",
     "status": "completed"
    },
    "tags": []
   },
   "outputs": [],
   "source": [
    "new_columns = {'URLURL_Length': 'URL_Length', 'Prefix_Suffix':'HavingHyphen'}\n",
    "df = df.rename(columns=new_columns)\n"
   ]
  },
  {
   "cell_type": "code",
   "execution_count": 12,
   "id": "d49663e2",
   "metadata": {
    "execution": {
     "iopub.execute_input": "2023-05-15T05:41:15.287771Z",
     "iopub.status.busy": "2023-05-15T05:41:15.287124Z",
     "iopub.status.idle": "2023-05-15T05:41:15.302050Z",
     "shell.execute_reply": "2023-05-15T05:41:15.300752Z"
    },
    "papermill": {
     "duration": 0.035851,
     "end_time": "2023-05-15T05:41:15.304539",
     "exception": false,
     "start_time": "2023-05-15T05:41:15.268688",
     "status": "completed"
    },
    "tags": []
   },
   "outputs": [
    {
     "data": {
      "text/plain": [
       "(107, 7)"
      ]
     },
     "execution_count": 12,
     "metadata": {},
     "output_type": "execute_result"
    }
   ],
   "source": [
    "df = df.drop_duplicates()\n",
    "df.shape"
   ]
  },
  {
   "cell_type": "markdown",
   "id": "2aceb596",
   "metadata": {
    "papermill": {
     "duration": 0.016693,
     "end_time": "2023-05-15T05:41:15.338239",
     "exception": false,
     "start_time": "2023-05-15T05:41:15.321546",
     "status": "completed"
    },
    "tags": []
   },
   "source": [
    "> *There are total 107 different combinations, this may sounds really less but keep in mind that all the features and labels has combination of only two or three unique values.*"
   ]
  },
  {
   "cell_type": "markdown",
   "id": "737a2b4d",
   "metadata": {
    "papermill": {
     "duration": 0.016672,
     "end_time": "2023-05-15T05:41:15.371955",
     "exception": false,
     "start_time": "2023-05-15T05:41:15.355283",
     "status": "completed"
    },
    "tags": []
   },
   "source": [
    "> *The less number will generalize more but detection time will be alot faster.*"
   ]
  },
  {
   "cell_type": "code",
   "execution_count": 13,
   "id": "f0db350a",
   "metadata": {
    "execution": {
     "iopub.execute_input": "2023-05-15T05:41:15.407958Z",
     "iopub.status.busy": "2023-05-15T05:41:15.407495Z",
     "iopub.status.idle": "2023-05-15T05:41:15.418011Z",
     "shell.execute_reply": "2023-05-15T05:41:15.416720Z"
    },
    "papermill": {
     "duration": 0.031349,
     "end_time": "2023-05-15T05:41:15.420298",
     "exception": false,
     "start_time": "2023-05-15T05:41:15.388949",
     "status": "completed"
    },
    "tags": []
   },
   "outputs": [
    {
     "data": {
      "text/plain": [
       "URL_Length                  0\n",
       "having_At_Symbol            0\n",
       "double_slash_redirecting    0\n",
       "HavingHyphen                0\n",
       "Page_Rank                   0\n",
       "Google_Index                0\n",
       "Result                      0\n",
       "dtype: int64"
      ]
     },
     "execution_count": 13,
     "metadata": {},
     "output_type": "execute_result"
    }
   ],
   "source": [
    "df.isnull().sum()"
   ]
  },
  {
   "cell_type": "code",
   "execution_count": 14,
   "id": "f6fa7543",
   "metadata": {
    "execution": {
     "iopub.execute_input": "2023-05-15T05:41:15.457169Z",
     "iopub.status.busy": "2023-05-15T05:41:15.456709Z",
     "iopub.status.idle": "2023-05-15T05:41:15.467824Z",
     "shell.execute_reply": "2023-05-15T05:41:15.466466Z"
    },
    "papermill": {
     "duration": 0.032686,
     "end_time": "2023-05-15T05:41:15.470228",
     "exception": false,
     "start_time": "2023-05-15T05:41:15.437542",
     "status": "completed"
    },
    "tags": []
   },
   "outputs": [
    {
     "data": {
      "text/plain": [
       " 1    0.626168\n",
       "-1    0.373832\n",
       "Name: Result, dtype: float64"
      ]
     },
     "execution_count": 14,
     "metadata": {},
     "output_type": "execute_result"
    }
   ],
   "source": [
    "df['Result'].value_counts(normalize=True)"
   ]
  },
  {
   "cell_type": "markdown",
   "id": "9711d9ce",
   "metadata": {
    "papermill": {
     "duration": 0.017334,
     "end_time": "2023-05-15T05:41:15.505178",
     "exception": false,
     "start_time": "2023-05-15T05:41:15.487844",
     "status": "completed"
    },
    "tags": []
   },
   "source": [
    "> *1 means legitimate, and -1 is phishing.*"
   ]
  },
  {
   "cell_type": "code",
   "execution_count": 15,
   "id": "d69d7962",
   "metadata": {
    "execution": {
     "iopub.execute_input": "2023-05-15T05:41:15.542267Z",
     "iopub.status.busy": "2023-05-15T05:41:15.541834Z",
     "iopub.status.idle": "2023-05-15T05:41:15.548667Z",
     "shell.execute_reply": "2023-05-15T05:41:15.547436Z"
    },
    "papermill": {
     "duration": 0.028244,
     "end_time": "2023-05-15T05:41:15.550978",
     "exception": false,
     "start_time": "2023-05-15T05:41:15.522734",
     "status": "completed"
    },
    "tags": []
   },
   "outputs": [],
   "source": [
    "X = df.drop('Result', axis=1)\n",
    "y = df['Result']"
   ]
  },
  {
   "cell_type": "code",
   "execution_count": 16,
   "id": "5ef1f867",
   "metadata": {
    "execution": {
     "iopub.execute_input": "2023-05-15T05:41:15.588662Z",
     "iopub.status.busy": "2023-05-15T05:41:15.588226Z",
     "iopub.status.idle": "2023-05-15T05:41:16.941359Z",
     "shell.execute_reply": "2023-05-15T05:41:16.940153Z"
    },
    "papermill": {
     "duration": 1.37623,
     "end_time": "2023-05-15T05:41:16.944778",
     "exception": false,
     "start_time": "2023-05-15T05:41:15.568548",
     "status": "completed"
    },
    "tags": []
   },
   "outputs": [
    {
     "name": "stderr",
     "output_type": "stream",
     "text": [
      "/opt/conda/lib/python3.10/site-packages/scipy/__init__.py:146: UserWarning: A NumPy version >=1.16.5 and <1.23.0 is required for this version of SciPy (detected version 1.23.5\n",
      "  warnings.warn(f\"A NumPy version >={np_minversion} and <{np_maxversion}\"\n"
     ]
    }
   ],
   "source": [
    "from sklearn.model_selection import train_test_split\n",
    "\n",
    "\n",
    "X_train, X_test, y_train, y_test = train_test_split(X, y, test_size=0.2, random_state=0, stratify=y)\n"
   ]
  },
  {
   "cell_type": "code",
   "execution_count": 17,
   "id": "6b92a1a6",
   "metadata": {
    "execution": {
     "iopub.execute_input": "2023-05-15T05:41:16.984424Z",
     "iopub.status.busy": "2023-05-15T05:41:16.984009Z",
     "iopub.status.idle": "2023-05-15T05:41:16.989551Z",
     "shell.execute_reply": "2023-05-15T05:41:16.988499Z"
    },
    "papermill": {
     "duration": 0.028494,
     "end_time": "2023-05-15T05:41:16.992260",
     "exception": false,
     "start_time": "2023-05-15T05:41:16.963766",
     "status": "completed"
    },
    "tags": []
   },
   "outputs": [
    {
     "name": "stdout",
     "output_type": "stream",
     "text": [
      "(85, 6)\n",
      "(22, 6)\n"
     ]
    }
   ],
   "source": [
    "print(X_train.shape)\n",
    "print(X_test.shape)"
   ]
  },
  {
   "cell_type": "markdown",
   "id": "692e0d53",
   "metadata": {
    "papermill": {
     "duration": 0.018099,
     "end_time": "2023-05-15T05:41:17.029343",
     "exception": false,
     "start_time": "2023-05-15T05:41:17.011244",
     "status": "completed"
    },
    "tags": []
   },
   "source": [
    "# > *Logistic Regression*"
   ]
  },
  {
   "cell_type": "markdown",
   "id": "8e9244cf",
   "metadata": {
    "papermill": {
     "duration": 0.018505,
     "end_time": "2023-05-15T05:41:17.066328",
     "exception": false,
     "start_time": "2023-05-15T05:41:17.047823",
     "status": "completed"
    },
    "tags": []
   },
   "source": [
    "> *Aim:> Maximizing True Positive Rate leveraging False Positive Rate using ROC curve.*"
   ]
  },
  {
   "cell_type": "markdown",
   "id": "864e1d76",
   "metadata": {
    "papermill": {
     "duration": 0.017854,
     "end_time": "2023-05-15T05:41:17.102971",
     "exception": false,
     "start_time": "2023-05-15T05:41:17.085117",
     "status": "completed"
    },
    "tags": []
   },
   "source": [
    "> *Nice tutorial on ROC and AUC by StatQuest with Josh Starmer \n",
    ":> https://youtu.be/4jRBRDbJemM*"
   ]
  },
  {
   "cell_type": "markdown",
   "id": "f99b538f",
   "metadata": {
    "papermill": {
     "duration": 0.018396,
     "end_time": "2023-05-15T05:41:17.139750",
     "exception": false,
     "start_time": "2023-05-15T05:41:17.121354",
     "status": "completed"
    },
    "tags": []
   },
   "source": [
    "> *Reason for analysing roc on only Logistic Regression algorithm.\n",
    "1.They are fast in predicting a new data instance.\n",
    "2.They outputs the result of each instance in probability between 0-1(Some algorithms does'nt and this is important because we can pick and choose threshold properly)..*"
   ]
  },
  {
   "cell_type": "markdown",
   "id": "979066e4",
   "metadata": {
    "papermill": {
     "duration": 0.017744,
     "end_time": "2023-05-15T05:41:17.175517",
     "exception": false,
     "start_time": "2023-05-15T05:41:17.157773",
     "status": "completed"
    },
    "tags": []
   },
   "source": [
    "> *SVM has greater AUC(Area Under Curve) so we will go from here.*"
   ]
  },
  {
   "cell_type": "code",
   "execution_count": 18,
   "id": "674e641d",
   "metadata": {
    "execution": {
     "iopub.execute_input": "2023-05-15T05:41:17.214173Z",
     "iopub.status.busy": "2023-05-15T05:41:17.213730Z",
     "iopub.status.idle": "2023-05-15T05:41:17.747596Z",
     "shell.execute_reply": "2023-05-15T05:41:17.746516Z"
    },
    "papermill": {
     "duration": 0.556497,
     "end_time": "2023-05-15T05:41:17.750272",
     "exception": false,
     "start_time": "2023-05-15T05:41:17.193775",
     "status": "completed"
    },
    "tags": []
   },
   "outputs": [
    {
     "data": {
      "image/png": "[encoded data removed]",
      "text/plain": [
       "<Figure size 800x600 with 1 Axes>"
      ]
     },
     "metadata": {},
     "output_type": "display_data"
    }
   ],
   "source": [
    "import numpy as np\n",
    "import matplotlib.pyplot as plt\n",
    "from sklearn.metrics import roc_curve, auc\n",
    "from sklearn.linear_model import LogisticRegression\n",
    "\n",
    "\n",
    "LG = LogisticRegression()\n",
    "LG.fit(X_train, y_train)\n",
    "y_pred_prob = LG.predict_proba(X_train)[:, 1]\n",
    "\n",
    "# Calculate the FPR, TPR, and thresholds\n",
    "fpr, tpr, thresholds = roc_curve(y_train, y_pred_prob)\n",
    "\n",
    "# Plot the ROC curve\n",
    "plt.figure(figsize=(8, 6))\n",
    "plt.plot(fpr, tpr, label='ROC curve (AUC = {:.2f})'.format(auc(fpr, tpr)))\n",
    "plt.plot([0, 1], [0, 1], 'k--')  # Diagonal line representing random guessing\n",
    "plt.xlabel('False Positive Rate')\n",
    "plt.ylabel('True Positive Rate')\n",
    "plt.title('Receiver Operating Characteristic (ROC) Curve')\n",
    "plt.legend(loc='lower right')\n",
    "\n",
    "# Display threshold values as annotations\n",
    "for i, threshold in enumerate(thresholds):\n",
    "    plt.annotate('{:.2f}'.format(threshold), (fpr[i], tpr[i]), textcoords=\"offset points\", xytext=(5, -10), ha='center')\n",
    "\n",
    "plt.show()\n",
    "\n",
    "\n",
    "\n",
    "\n"
   ]
  },
  {
   "cell_type": "code",
   "execution_count": 19,
   "id": "5b2a232f",
   "metadata": {
    "execution": {
     "iopub.execute_input": "2023-05-15T05:41:17.792218Z",
     "iopub.status.busy": "2023-05-15T05:41:17.791553Z",
     "iopub.status.idle": "2023-05-15T05:41:17.815344Z",
     "shell.execute_reply": "2023-05-15T05:41:17.814127Z"
    },
    "papermill": {
     "duration": 0.047557,
     "end_time": "2023-05-15T05:41:17.817930",
     "exception": false,
     "start_time": "2023-05-15T05:41:17.770373",
     "status": "completed"
    },
    "tags": []
   },
   "outputs": [
    {
     "name": "stdout",
     "output_type": "stream",
     "text": [
      "Before:>\n",
      "Training Accuracy:  0.7294117647058823\n",
      "Testing Accuracy  0.45454545454545453\n",
      "Training True Positive Rate:  0.7735849056603774\n",
      "Testing True Positive Rate:  0.5714285714285714\n"
     ]
    }
   ],
   "source": [
    "from sklearn.metrics import confusion_matrix\n",
    "\n",
    "LG = LogisticRegression()\n",
    "LG.fit(X_train, y_train)\n",
    "# Predict on the test set\n",
    "\n",
    "print(\"Before:>\")\n",
    "print('Training Accuracy: ', LG.score(X_train,y_train))\n",
    "print('Testing Accuracy ', LG.score(X_test, y_test))\n",
    "tn, fp, fn, tp = confusion_matrix(y_train,LG.predict(X_train)).ravel()\n",
    "print('Training True Positive Rate: ', (tp)/(tp+fn))\n",
    "\n",
    "tn, fp, fn, tp = confusion_matrix(y_test,LG.predict(X_test)).ravel()\n",
    "print('Testing True Positive Rate: ', (tp)/(tp+fn))\n",
    "\n"
   ]
  },
  {
   "cell_type": "code",
   "execution_count": 20,
   "id": "fa4780c3",
   "metadata": {
    "execution": {
     "iopub.execute_input": "2023-05-15T05:41:17.862419Z",
     "iopub.status.busy": "2023-05-15T05:41:17.860939Z",
     "iopub.status.idle": "2023-05-15T05:41:17.885816Z",
     "shell.execute_reply": "2023-05-15T05:41:17.884724Z"
    },
    "papermill": {
     "duration": 0.050899,
     "end_time": "2023-05-15T05:41:17.888820",
     "exception": false,
     "start_time": "2023-05-15T05:41:17.837921",
     "status": "completed"
    },
    "tags": []
   },
   "outputs": [
    {
     "name": "stdout",
     "output_type": "stream",
     "text": [
      "After:>\n",
      "Training Accuracy:  0.8352941176470589\n",
      "Testing Accuracy  0.8181818181818182\n",
      "Training True Positive Rate:  0.8679245283018868\n",
      "Testing True Positive Rate:  0.7857142857142857\n"
     ]
    }
   ],
   "source": [
    "print(\"After:>\")\n",
    "y_pred_train = LG.predict_proba(X_train)\n",
    "y_pred_test = LG.predict_proba(X_test)\n",
    "result_train = np.where(y_pred_train[:,1] < 0.42, -1, 1)\n",
    "result_test = np.where(y_pred_test[:,1] < 0.42, -1, 1)\n",
    "\n",
    "print('Training Accuracy: ', LG.score(X_train,result_train))\n",
    "print('Testing Accuracy ', LG.score(X_test, result_test))\n",
    "\n",
    "tn, fp, fn, tp = confusion_matrix(y_train,result_train).ravel()\n",
    "print('Training True Positive Rate: ', (tp)/(tp+fn))\n",
    "\n",
    "tn, fp, fn, tp = confusion_matrix(y_test,result_test).ravel()\n",
    "print('Testing True Positive Rate: ', (tp)/(tp+fn))\n",
    "\n"
   ]
  },
  {
   "cell_type": "markdown",
   "id": "980b727e",
   "metadata": {
    "papermill": {
     "duration": 0.018779,
     "end_time": "2023-05-15T05:41:17.926605",
     "exception": false,
     "start_time": "2023-05-15T05:41:17.907826",
     "status": "completed"
    },
    "tags": []
   },
   "source": [
    "# > *Predicting a new URL if its a Phishing or not.*"
   ]
  },
  {
   "cell_type": "code",
   "execution_count": 21,
   "id": "fdfc23d6",
   "metadata": {
    "execution": {
     "iopub.execute_input": "2023-05-15T05:41:17.966333Z",
     "iopub.status.busy": "2023-05-15T05:41:17.965891Z",
     "iopub.status.idle": "2023-05-15T05:41:17.970442Z",
     "shell.execute_reply": "2023-05-15T05:41:17.969349Z"
    },
    "papermill": {
     "duration": 0.02722,
     "end_time": "2023-05-15T05:41:17.972785",
     "exception": false,
     "start_time": "2023-05-15T05:41:17.945565",
     "status": "completed"
    },
    "tags": []
   },
   "outputs": [],
   "source": [
    "new_url = 'https://www.google.com'"
   ]
  },
  {
   "cell_type": "code",
   "execution_count": 22,
   "id": "3c123147",
   "metadata": {
    "execution": {
     "iopub.execute_input": "2023-05-15T05:41:18.012694Z",
     "iopub.status.busy": "2023-05-15T05:41:18.011912Z",
     "iopub.status.idle": "2023-05-15T05:41:18.024195Z",
     "shell.execute_reply": "2023-05-15T05:41:18.023134Z"
    },
    "papermill": {
     "duration": 0.034697,
     "end_time": "2023-05-15T05:41:18.026461",
     "exception": false,
     "start_time": "2023-05-15T05:41:17.991764",
     "status": "completed"
    },
    "tags": []
   },
   "outputs": [
    {
     "data": {
      "text/html": [
       "<div>\n",
       "<style scoped>\n",
       "    .dataframe tbody tr th:only-of-type {\n",
       "        vertical-align: middle;\n",
       "    }\n",
       "\n",
       "    .dataframe tbody tr th {\n",
       "        vertical-align: top;\n",
       "    }\n",
       "\n",
       "    .dataframe thead th {\n",
       "        text-align: right;\n",
       "    }\n",
       "</style>\n",
       "<table border=\"1\" class=\"dataframe\">\n",
       "  <thead>\n",
       "    <tr style=\"text-align: right;\">\n",
       "      <th></th>\n",
       "      <th>URL_Length</th>\n",
       "      <th>having_At_Symbol</th>\n",
       "      <th>double_slash_redirecting</th>\n",
       "      <th>HavingHyphen</th>\n",
       "      <th>Page_Rank</th>\n",
       "      <th>Google_Index</th>\n",
       "      <th>Result</th>\n",
       "    </tr>\n",
       "  </thead>\n",
       "  <tbody>\n",
       "    <tr>\n",
       "      <th>0</th>\n",
       "      <td>1</td>\n",
       "      <td>1</td>\n",
       "      <td>-1</td>\n",
       "      <td>-1</td>\n",
       "      <td>-1</td>\n",
       "      <td>1</td>\n",
       "      <td>-1</td>\n",
       "    </tr>\n",
       "    <tr>\n",
       "      <th>1</th>\n",
       "      <td>1</td>\n",
       "      <td>1</td>\n",
       "      <td>1</td>\n",
       "      <td>-1</td>\n",
       "      <td>-1</td>\n",
       "      <td>1</td>\n",
       "      <td>-1</td>\n",
       "    </tr>\n",
       "    <tr>\n",
       "      <th>2</th>\n",
       "      <td>0</td>\n",
       "      <td>1</td>\n",
       "      <td>1</td>\n",
       "      <td>-1</td>\n",
       "      <td>-1</td>\n",
       "      <td>1</td>\n",
       "      <td>-1</td>\n",
       "    </tr>\n",
       "    <tr>\n",
       "      <th>4</th>\n",
       "      <td>0</td>\n",
       "      <td>1</td>\n",
       "      <td>1</td>\n",
       "      <td>-1</td>\n",
       "      <td>-1</td>\n",
       "      <td>1</td>\n",
       "      <td>1</td>\n",
       "    </tr>\n",
       "    <tr>\n",
       "      <th>5</th>\n",
       "      <td>0</td>\n",
       "      <td>1</td>\n",
       "      <td>-1</td>\n",
       "      <td>-1</td>\n",
       "      <td>-1</td>\n",
       "      <td>1</td>\n",
       "      <td>1</td>\n",
       "    </tr>\n",
       "  </tbody>\n",
       "</table>\n",
       "</div>"
      ],
      "text/plain": [
       "   URL_Length  having_At_Symbol  double_slash_redirecting  HavingHyphen  \\\n",
       "0           1                 1                        -1            -1   \n",
       "1           1                 1                         1            -1   \n",
       "2           0                 1                         1            -1   \n",
       "4           0                 1                         1            -1   \n",
       "5           0                 1                        -1            -1   \n",
       "\n",
       "   Page_Rank  Google_Index  Result  \n",
       "0         -1             1      -1  \n",
       "1         -1             1      -1  \n",
       "2         -1             1      -1  \n",
       "4         -1             1       1  \n",
       "5         -1             1       1  "
      ]
     },
     "execution_count": 22,
     "metadata": {},
     "output_type": "execute_result"
    }
   ],
   "source": [
    "df.head()"
   ]
  },
  {
   "cell_type": "markdown",
   "id": "34bf0e1c",
   "metadata": {
    "papermill": {
     "duration": 0.018734,
     "end_time": "2023-05-15T05:41:18.064219",
     "exception": false,
     "start_time": "2023-05-15T05:41:18.045485",
     "status": "completed"
    },
    "tags": []
   },
   "source": [
    "> *1 means legitimate, 0 is suspicious and -1 is phishing.*"
   ]
  },
  {
   "cell_type": "code",
   "execution_count": 23,
   "id": "a62b1c99",
   "metadata": {
    "execution": {
     "iopub.execute_input": "2023-05-15T05:41:18.104339Z",
     "iopub.status.busy": "2023-05-15T05:41:18.103701Z",
     "iopub.status.idle": "2023-05-15T05:41:18.109584Z",
     "shell.execute_reply": "2023-05-15T05:41:18.108488Z"
    },
    "papermill": {
     "duration": 0.028573,
     "end_time": "2023-05-15T05:41:18.111824",
     "exception": false,
     "start_time": "2023-05-15T05:41:18.083251",
     "status": "completed"
    },
    "tags": []
   },
   "outputs": [],
   "source": [
    "url_len = len(new_url)\n",
    "URL_Length = -1\n",
    "if url_len < 54:\n",
    "    URL_Length = 1\n",
    "elif url_len >= 54 and url_len <=75:\n",
    "    URL_Length = 0\n"
   ]
  },
  {
   "cell_type": "code",
   "execution_count": 24,
   "id": "c935cc37",
   "metadata": {
    "execution": {
     "iopub.execute_input": "2023-05-15T05:41:18.152758Z",
     "iopub.status.busy": "2023-05-15T05:41:18.152325Z",
     "iopub.status.idle": "2023-05-15T05:41:18.158988Z",
     "shell.execute_reply": "2023-05-15T05:41:18.157207Z"
    },
    "papermill": {
     "duration": 0.030753,
     "end_time": "2023-05-15T05:41:18.161850",
     "exception": false,
     "start_time": "2023-05-15T05:41:18.131097",
     "status": "completed"
    },
    "tags": []
   },
   "outputs": [
    {
     "name": "stdout",
     "output_type": "stream",
     "text": [
      "1\n"
     ]
    }
   ],
   "source": [
    "having_At_Symbol = -1\n",
    "if new_url.find(\"@\")==-1:\n",
    "    having_At_Symbol = 1\n",
    "print(having_At_Symbol)"
   ]
  },
  {
   "cell_type": "code",
   "execution_count": 25,
   "id": "f14ff99b",
   "metadata": {
    "execution": {
     "iopub.execute_input": "2023-05-15T05:41:18.204075Z",
     "iopub.status.busy": "2023-05-15T05:41:18.203599Z",
     "iopub.status.idle": "2023-05-15T05:41:18.211160Z",
     "shell.execute_reply": "2023-05-15T05:41:18.209903Z"
    },
    "papermill": {
     "duration": 0.032125,
     "end_time": "2023-05-15T05:41:18.213909",
     "exception": false,
     "start_time": "2023-05-15T05:41:18.181784",
     "status": "completed"
    },
    "tags": []
   },
   "outputs": [
    {
     "name": "stdout",
     "output_type": "stream",
     "text": [
      "1\n"
     ]
    }
   ],
   "source": [
    "try:\n",
    "    position = new_url.index(\"//\")\n",
    "except ValueError:\n",
    "    double_slash_redirecting=-1\n",
    "if position+1 > 7:\n",
    "    double_slash_redirecting=-1\n",
    "else:\n",
    "    double_slash_redirecting=1\n",
    "print(double_slash_redirecting)"
   ]
  },
  {
   "cell_type": "code",
   "execution_count": 26,
   "id": "af698101",
   "metadata": {
    "execution": {
     "iopub.execute_input": "2023-05-15T05:41:18.257844Z",
     "iopub.status.busy": "2023-05-15T05:41:18.256883Z",
     "iopub.status.idle": "2023-05-15T05:41:18.263583Z",
     "shell.execute_reply": "2023-05-15T05:41:18.262279Z"
    },
    "papermill": {
     "duration": 0.031671,
     "end_time": "2023-05-15T05:41:18.266268",
     "exception": false,
     "start_time": "2023-05-15T05:41:18.234597",
     "status": "completed"
    },
    "tags": []
   },
   "outputs": [
    {
     "name": "stdout",
     "output_type": "stream",
     "text": [
      "1\n"
     ]
    }
   ],
   "source": [
    "HavingHyphen = -1\n",
    "if new_url.find(\"-\")==-1:\n",
    "    HavingHyphen = 1\n",
    "print(HavingHyphen)"
   ]
  },
  {
   "cell_type": "markdown",
   "id": "95eed3c0",
   "metadata": {
    "papermill": {
     "duration": 0.019991,
     "end_time": "2023-05-15T05:41:18.307422",
     "exception": false,
     "start_time": "2023-05-15T05:41:18.287431",
     "status": "completed"
    },
    "tags": []
   },
   "source": [
    "> *Page Rank value is received through api from https://www.domcop.com/openpagerank/documentation*"
   ]
  },
  {
   "cell_type": "code",
   "execution_count": 27,
   "id": "fd113dbe",
   "metadata": {
    "execution": {
     "iopub.execute_input": "2023-05-15T05:41:18.350319Z",
     "iopub.status.busy": "2023-05-15T05:41:18.349865Z",
     "iopub.status.idle": "2023-05-15T05:41:19.018168Z",
     "shell.execute_reply": "2023-05-15T05:41:19.016838Z"
    },
    "papermill": {
     "duration": 0.693498,
     "end_time": "2023-05-15T05:41:19.021316",
     "exception": false,
     "start_time": "2023-05-15T05:41:18.327818",
     "status": "completed"
    },
    "tags": []
   },
   "outputs": [],
   "source": [
    "import requests\n",
    "from urllib.parse import urlparse\n",
    "\n",
    "\n",
    "headers = {'API-OPR':'c8g4404gswswcok8s0k4404ko4g00oo8w4ks84g4'}\n",
    "requested_url = 'https://www.google.com/docs/about/'\n",
    "parsed_url = urlparse(requested_url)\n",
    "domain = parsed_url.netloc\n",
    "url = 'https://openpagerank.com/api/v1.0/getPageRank?domains%5B0%5D=' + domain\n",
    "request = requests.get(url, headers=headers)\n",
    "result = request.json()\n"
   ]
  },
  {
   "cell_type": "code",
   "execution_count": 28,
   "id": "645fa62b",
   "metadata": {
    "execution": {
     "iopub.execute_input": "2023-05-15T05:41:19.063012Z",
     "iopub.status.busy": "2023-05-15T05:41:19.062467Z",
     "iopub.status.idle": "2023-05-15T05:41:19.070979Z",
     "shell.execute_reply": "2023-05-15T05:41:19.069141Z"
    },
    "papermill": {
     "duration": 0.032249,
     "end_time": "2023-05-15T05:41:19.073425",
     "exception": false,
     "start_time": "2023-05-15T05:41:19.041176",
     "status": "completed"
    },
    "tags": []
   },
   "outputs": [
    {
     "name": "stdout",
     "output_type": "stream",
     "text": [
      "-1\n"
     ]
    }
   ],
   "source": [
    "page_rank = result['response'][0]['page_rank_decimal']\n",
    "if page_rank < 20:\n",
    "    Page_Rank = -1\n",
    "else:\n",
    "    Page_Rank = 1\n",
    "print(Page_Rank)"
   ]
  },
  {
   "cell_type": "code",
   "execution_count": 29,
   "id": "6241b1be",
   "metadata": {
    "execution": {
     "iopub.execute_input": "2023-05-15T05:41:19.115103Z",
     "iopub.status.busy": "2023-05-15T05:41:19.114636Z",
     "iopub.status.idle": "2023-05-15T05:41:19.122743Z",
     "shell.execute_reply": "2023-05-15T05:41:19.121532Z"
    },
    "papermill": {
     "duration": 0.031625,
     "end_time": "2023-05-15T05:41:19.124948",
     "exception": false,
     "start_time": "2023-05-15T05:41:19.093323",
     "status": "completed"
    },
    "tags": []
   },
   "outputs": [
    {
     "data": {
      "text/plain": [
       "'ebrpnvvjgd.duckdns.org'"
      ]
     },
     "execution_count": 29,
     "metadata": {},
     "output_type": "execute_result"
    }
   ],
   "source": [
    "requested_url = 'http://ebrpnvvjgd.duckdns.org'\n",
    "parsed_url = urlparse(requested_url)\n",
    "domain = parsed_url.netloc\n",
    "domain"
   ]
  },
  {
   "cell_type": "code",
   "execution_count": 30,
   "id": "1327bfb6",
   "metadata": {
    "execution": {
     "iopub.execute_input": "2023-05-15T05:41:19.167107Z",
     "iopub.status.busy": "2023-05-15T05:41:19.166733Z",
     "iopub.status.idle": "2023-05-15T05:41:20.036039Z",
     "shell.execute_reply": "2023-05-15T05:41:20.034098Z"
    },
    "papermill": {
     "duration": 0.894113,
     "end_time": "2023-05-15T05:41:20.038511",
     "exception": false,
     "start_time": "2023-05-15T05:41:19.144398",
     "status": "completed"
    },
    "tags": []
   },
   "outputs": [
    {
     "name": "stdout",
     "output_type": "stream",
     "text": [
      "-1\n"
     ]
    }
   ],
   "source": [
    "import re\n",
    "import requests\n",
    "from bs4 import BeautifulSoup\n",
    "\n",
    "\n",
    "Google_Index = -1\n",
    "\n",
    "google = \"https://www.google.com/search?q=site:\" + domain + \"&hl=en\"\n",
    "response = requests.get(google, cookies={\"CONSENT\": \"YES+1\"})\n",
    "soup = BeautifulSoup(response.content, \"html.parser\")\n",
    "not_indexed = re.compile(\"did not match any documents\")\n",
    "\n",
    "if soup(text=not_indexed):\n",
    "  Google_Index =-1\n",
    "else:\n",
    "  Google_Index= 1\n",
    "print(Google_Index)"
   ]
  },
  {
   "cell_type": "code",
   "execution_count": 31,
   "id": "2afa1b11",
   "metadata": {
    "execution": {
     "iopub.execute_input": "2023-05-15T05:41:20.082513Z",
     "iopub.status.busy": "2023-05-15T05:41:20.081479Z",
     "iopub.status.idle": "2023-05-15T05:41:20.095815Z",
     "shell.execute_reply": "2023-05-15T05:41:20.094584Z"
    },
    "papermill": {
     "duration": 0.03895,
     "end_time": "2023-05-15T05:41:20.098079",
     "exception": false,
     "start_time": "2023-05-15T05:41:20.059129",
     "status": "completed"
    },
    "tags": []
   },
   "outputs": [
    {
     "data": {
      "text/html": [
       "<div>\n",
       "<style scoped>\n",
       "    .dataframe tbody tr th:only-of-type {\n",
       "        vertical-align: middle;\n",
       "    }\n",
       "\n",
       "    .dataframe tbody tr th {\n",
       "        vertical-align: top;\n",
       "    }\n",
       "\n",
       "    .dataframe thead th {\n",
       "        text-align: right;\n",
       "    }\n",
       "</style>\n",
       "<table border=\"1\" class=\"dataframe\">\n",
       "  <thead>\n",
       "    <tr style=\"text-align: right;\">\n",
       "      <th></th>\n",
       "      <th>URL_Length</th>\n",
       "      <th>having_At_Symbol</th>\n",
       "      <th>double_slash_redirecting</th>\n",
       "      <th>HavingHyphen</th>\n",
       "      <th>Page_Rank</th>\n",
       "      <th>Google_Index</th>\n",
       "      <th>Result</th>\n",
       "    </tr>\n",
       "  </thead>\n",
       "  <tbody>\n",
       "    <tr>\n",
       "      <th>0</th>\n",
       "      <td>1</td>\n",
       "      <td>1</td>\n",
       "      <td>-1</td>\n",
       "      <td>-1</td>\n",
       "      <td>-1</td>\n",
       "      <td>1</td>\n",
       "      <td>-1</td>\n",
       "    </tr>\n",
       "    <tr>\n",
       "      <th>1</th>\n",
       "      <td>1</td>\n",
       "      <td>1</td>\n",
       "      <td>1</td>\n",
       "      <td>-1</td>\n",
       "      <td>-1</td>\n",
       "      <td>1</td>\n",
       "      <td>-1</td>\n",
       "    </tr>\n",
       "    <tr>\n",
       "      <th>2</th>\n",
       "      <td>0</td>\n",
       "      <td>1</td>\n",
       "      <td>1</td>\n",
       "      <td>-1</td>\n",
       "      <td>-1</td>\n",
       "      <td>1</td>\n",
       "      <td>-1</td>\n",
       "    </tr>\n",
       "    <tr>\n",
       "      <th>4</th>\n",
       "      <td>0</td>\n",
       "      <td>1</td>\n",
       "      <td>1</td>\n",
       "      <td>-1</td>\n",
       "      <td>-1</td>\n",
       "      <td>1</td>\n",
       "      <td>1</td>\n",
       "    </tr>\n",
       "    <tr>\n",
       "      <th>5</th>\n",
       "      <td>0</td>\n",
       "      <td>1</td>\n",
       "      <td>-1</td>\n",
       "      <td>-1</td>\n",
       "      <td>-1</td>\n",
       "      <td>1</td>\n",
       "      <td>1</td>\n",
       "    </tr>\n",
       "  </tbody>\n",
       "</table>\n",
       "</div>"
      ],
      "text/plain": [
       "   URL_Length  having_At_Symbol  double_slash_redirecting  HavingHyphen  \\\n",
       "0           1                 1                        -1            -1   \n",
       "1           1                 1                         1            -1   \n",
       "2           0                 1                         1            -1   \n",
       "4           0                 1                         1            -1   \n",
       "5           0                 1                        -1            -1   \n",
       "\n",
       "   Page_Rank  Google_Index  Result  \n",
       "0         -1             1      -1  \n",
       "1         -1             1      -1  \n",
       "2         -1             1      -1  \n",
       "4         -1             1       1  \n",
       "5         -1             1       1  "
      ]
     },
     "execution_count": 31,
     "metadata": {},
     "output_type": "execute_result"
    }
   ],
   "source": [
    "df.head()"
   ]
  },
  {
   "cell_type": "code",
   "execution_count": 32,
   "id": "a79aae17",
   "metadata": {
    "execution": {
     "iopub.execute_input": "2023-05-15T05:41:20.141345Z",
     "iopub.status.busy": "2023-05-15T05:41:20.140866Z",
     "iopub.status.idle": "2023-05-15T05:41:20.155357Z",
     "shell.execute_reply": "2023-05-15T05:41:20.154182Z"
    },
    "papermill": {
     "duration": 0.039174,
     "end_time": "2023-05-15T05:41:20.157912",
     "exception": false,
     "start_time": "2023-05-15T05:41:20.118738",
     "status": "completed"
    },
    "tags": []
   },
   "outputs": [
    {
     "data": {
      "text/html": [
       "<div>\n",
       "<style scoped>\n",
       "    .dataframe tbody tr th:only-of-type {\n",
       "        vertical-align: middle;\n",
       "    }\n",
       "\n",
       "    .dataframe tbody tr th {\n",
       "        vertical-align: top;\n",
       "    }\n",
       "\n",
       "    .dataframe thead th {\n",
       "        text-align: right;\n",
       "    }\n",
       "</style>\n",
       "<table border=\"1\" class=\"dataframe\">\n",
       "  <thead>\n",
       "    <tr style=\"text-align: right;\">\n",
       "      <th></th>\n",
       "      <th>URL_Length</th>\n",
       "      <th>having_At_Symbol</th>\n",
       "      <th>double_slash_redirecting</th>\n",
       "      <th>HavingHyphen</th>\n",
       "      <th>Page_Rank</th>\n",
       "      <th>Google_Index</th>\n",
       "    </tr>\n",
       "  </thead>\n",
       "  <tbody>\n",
       "    <tr>\n",
       "      <th>0</th>\n",
       "      <td>1</td>\n",
       "      <td>1</td>\n",
       "      <td>1</td>\n",
       "      <td>1</td>\n",
       "      <td>-1</td>\n",
       "      <td>-1</td>\n",
       "    </tr>\n",
       "  </tbody>\n",
       "</table>\n",
       "</div>"
      ],
      "text/plain": [
       "   URL_Length  having_At_Symbol  double_slash_redirecting  HavingHyphen  \\\n",
       "0           1                 1                         1             1   \n",
       "\n",
       "   Page_Rank  Google_Index  \n",
       "0         -1            -1  "
      ]
     },
     "execution_count": 32,
     "metadata": {},
     "output_type": "execute_result"
    }
   ],
   "source": [
    "X_pred =pd.DataFrame({'URL_Length':[URL_Length], 'having_At_Symbol':[having_At_Symbol], 'double_slash_redirecting':[double_slash_redirecting], 'HavingHyphen':[HavingHyphen], 'Page_Rank':[Page_Rank], 'Google_Index':[Google_Index]}) \n",
    "X_pred.columns = X_train.columns\n",
    "X_pred"
   ]
  },
  {
   "cell_type": "code",
   "execution_count": 33,
   "id": "dc6864e9",
   "metadata": {
    "execution": {
     "iopub.execute_input": "2023-05-15T05:41:20.201989Z",
     "iopub.status.busy": "2023-05-15T05:41:20.201054Z",
     "iopub.status.idle": "2023-05-15T05:41:20.211250Z",
     "shell.execute_reply": "2023-05-15T05:41:20.209827Z"
    },
    "papermill": {
     "duration": 0.034515,
     "end_time": "2023-05-15T05:41:20.213505",
     "exception": false,
     "start_time": "2023-05-15T05:41:20.178990",
     "status": "completed"
    },
    "tags": []
   },
   "outputs": [
    {
     "data": {
      "text/plain": [
       "array([1])"
      ]
     },
     "execution_count": 33,
     "metadata": {},
     "output_type": "execute_result"
    }
   ],
   "source": [
    "LG.predict(X_pred)"
   ]
  },
  {
   "cell_type": "markdown",
   "id": "ccfa5515",
   "metadata": {
    "papermill": {
     "duration": 0.019819,
     "end_time": "2023-05-15T05:41:20.253635",
     "exception": false,
     "start_time": "2023-05-15T05:41:20.233816",
     "status": "completed"
    },
    "tags": []
   },
   "source": [
    "# > *Saving the model*"
   ]
  },
  {
   "cell_type": "code",
   "execution_count": 34,
   "id": "559194a6",
   "metadata": {
    "execution": {
     "iopub.execute_input": "2023-05-15T05:41:20.296422Z",
     "iopub.status.busy": "2023-05-15T05:41:20.295947Z",
     "iopub.status.idle": "2023-05-15T05:41:20.302158Z",
     "shell.execute_reply": "2023-05-15T05:41:20.301033Z"
    },
    "papermill": {
     "duration": 0.030494,
     "end_time": "2023-05-15T05:41:20.304388",
     "exception": false,
     "start_time": "2023-05-15T05:41:20.273894",
     "status": "completed"
    },
    "tags": []
   },
   "outputs": [],
   "source": [
    "import pickle\n",
    "\n",
    "# Save the model to a file using pickle\n",
    "filename = 'logistic_regression_model.pkl'\n",
    "with open(filename, 'wb') as file:\n",
    "    pickle.dump(LG, file)"
   ]
  },
  {
   "cell_type": "code",
   "execution_count": 35,
   "id": "5c47bae4",
   "metadata": {
    "execution": {
     "iopub.execute_input": "2023-05-15T05:41:20.356185Z",
     "iopub.status.busy": "2023-05-15T05:41:20.355747Z",
     "iopub.status.idle": "2023-05-15T05:41:20.370083Z",
     "shell.execute_reply": "2023-05-15T05:41:20.368415Z"
    },
    "papermill": {
     "duration": 0.04938,
     "end_time": "2023-05-15T05:41:20.375326",
     "exception": false,
     "start_time": "2023-05-15T05:41:20.325946",
     "status": "completed"
    },
    "tags": []
   },
   "outputs": [
    {
     "data": {
      "text/plain": [
       "array([1])"
      ]
     },
     "execution_count": 35,
     "metadata": {},
     "output_type": "execute_result"
    }
   ],
   "source": [
    "# Load the model from the pickle file\n",
    "filename = 'logistic_regression_model.pkl'\n",
    "with open(filename, 'rb') as file:\n",
    "    loaded_model = pickle.load(file)\n",
    "\n",
    "# Use the loaded model for predictions\n",
    "loaded_model.predict(X_pred)"
   ]
  }
 ],
 "metadata": {
  "kernelspec": {
   "display_name": "Python 3",
   "language": "python",
   "name": "python3"
  },
  "language_info": {
   "codemirror_mode": {
    "name": "ipython",
    "version": 3
   },
   "file_extension": ".py",
   "mimetype": "text/x-python",
   "name": "python",
   "nbconvert_exporter": "python",
   "pygments_lexer": "ipython3",
   "version": "3.10.10"
  },
  "papermill": {
   "default_parameters": {},
   "duration": 21.449783,
   "end_time": "2023-05-15T05:41:21.826330",
   "environment_variables": {},
   "exception": null,
   "input_path": "__notebook__.ipynb",
   "output_path": "__notebook__.ipynb",
   "parameters": {},
   "start_time": "2023-05-15T05:41:00.376547",
   "version": "2.4.0"
  }
 },
 "nbformat": 4,
 "nbformat_minor": 5
}
